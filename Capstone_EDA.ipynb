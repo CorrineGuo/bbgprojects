{
 "cells": [
  {
   "cell_type": "code",
   "execution_count": 206,
   "metadata": {
    "collapsed": true
   },
   "outputs": [],
   "source": [
    "import pandas as pd\n",
    "import numpy as np\n",
    "import matplotlib.pyplot as plt\n",
    "from datetime import datetime, timedelta"
   ]
  },
  {
   "cell_type": "markdown",
   "metadata": {},
   "source": [
    "### Read datasets\n",
    "#### 1. Import user and order user data"
   ]
  },
  {
   "cell_type": "code",
   "execution_count": 37,
   "metadata": {
    "collapsed": true
   },
   "outputs": [],
   "source": [
    "user_df=pd.read_csv('C:/Users/corri/Desktop/Academic/Capstone Project/Project_Data/user_info.csv',low_memory=False)\n",
    "o2o_user_df=pd.read_csv('C:/Users/corri/Desktop/Academic/Capstone Project/Project_Data/o2o_user_info.csv',low_memory=False)\n",
    "orders_df=pd.read_csv('C:/Users/corri/Desktop/Academic/Capstone Project/Project_Data/o2o_orders.csv',low_memory=False)\n",
    "merchant_df=pd.read_csv('C:/Users/corri/Desktop/Academic/Capstone Project/Project_data/o2o_merchant_info.csv',encoding='utf_8_sig',low_memory=False)\n",
    "browse_df=pd.read_csv('C:/Users/corri/Desktop/Academic/Capstone Project/Project_data/o2o_browse_history.csv',encoding='utf_8_sig',low_memory=False)\n",
    "user_login_df=pd.read_csv('C:/Users/corri/Desktop/Academic/Capstone Project/Project_data/user_login_log.csv',encoding='utf_8_sig',low_memory=False)"
   ]
  },
  {
   "cell_type": "code",
   "execution_count": 38,
   "metadata": {
    "collapsed": true
   },
   "outputs": [],
   "source": [
    "order_income_df=pd.read_csv('C:/Users/corri/Desktop/Academic/Capstone Project/Project_data/o2o_order_income_detail .csv',encoding='utf_8_sig',low_memory=False)"
   ]
  },
  {
   "cell_type": "markdown",
   "metadata": {},
   "source": [
    "Join tables together\n",
    "1) Use O2O user table as the main table\n",
    "2) Join with user information\n",
    "3) Join with order information\n",
    "4) Join with merchant information\n",
    "5) Join with browse history\n",
    "6) Join with user type information\n"
   ]
  },
  {
   "cell_type": "code",
   "execution_count": 114,
   "metadata": {},
   "outputs": [
    {
     "data": {
      "text/plain": [
       "(39858, 50)"
      ]
     },
     "execution_count": 114,
     "metadata": {},
     "output_type": "execute_result"
    }
   ],
   "source": [
    "# Join o2o_user_df with user_df for complete user info\n",
    "user_join_df=pd.merge(o2o_user_df,user_df,on='user_id',how='inner')\n",
    "user_join_df.shape"
   ]
  },
  {
   "cell_type": "code",
   "execution_count": 115,
   "metadata": {},
   "outputs": [
    {
     "data": {
      "text/plain": [
       "['id_x',\n",
       " 'user_id',\n",
       " 'user_phone_x',\n",
       " 'register_time_x',\n",
       " 'register_from',\n",
       " 'recommend_user_id',\n",
       " 'recommend_merchant_id',\n",
       " 'provincial',\n",
       " 'municipal',\n",
       " 'region',\n",
       " 'is_provincial_agency',\n",
       " 'is_municipal_agency',\n",
       " 'is_region_agency',\n",
       " 'is_waiter',\n",
       " 'is_merchant',\n",
       " 'create_time',\n",
       " 'update_time',\n",
       " 'creator',\n",
       " 'updater_x',\n",
       " 'first_login_time',\n",
       " 'bu_wallet_token',\n",
       " 'register_channel',\n",
       " 'id_y',\n",
       " 'user_phone_y',\n",
       " 'login_password',\n",
       " 'deal_password',\n",
       " 'realname',\n",
       " 'nickname',\n",
       " 'user_type',\n",
       " 'sex',\n",
       " 'identity',\n",
       " 'birthday',\n",
       " 'recommend_id',\n",
       " 'frozen_state',\n",
       " 'exception_state',\n",
       " 'idcard',\n",
       " 'email',\n",
       " 'register_time_y',\n",
       " 'usual_address',\n",
       " 'authentication_state',\n",
       " 'head_img',\n",
       " 'createtime',\n",
       " 'cteator',\n",
       " 'updatetime',\n",
       " 'updater_y',\n",
       " 'jww_id',\n",
       " 'register_type',\n",
       " 'last_login',\n",
       " 'is_first_login',\n",
       " 'is_one_pass']"
      ]
     },
     "execution_count": 115,
     "metadata": {},
     "output_type": "execute_result"
    }
   ],
   "source": [
    "# Check column names\n",
    "list(user_join_df.columns)"
   ]
  },
  {
   "cell_type": "code",
   "execution_count": 117,
   "metadata": {
    "collapsed": true
   },
   "outputs": [],
   "source": [
    "# drop columns\n",
    "user_join_df=user_join_df.drop(['id_y','creator','updater_x','create_time','update_time','updatetime','cteator','updater_y','createtime','register_time_y','login_password','deal_password'],axis=1)"
   ]
  },
  {
   "cell_type": "code",
   "execution_count": 141,
   "metadata": {
    "collapsed": true
   },
   "outputs": [],
   "source": [
    "# Join browse information with user info\n",
    "browse_user_df=pd.merge(browse_df,user_join_df,on='user_id',how='outer')"
   ]
  },
  {
   "cell_type": "code",
   "execution_count": 142,
   "metadata": {},
   "outputs": [
    {
     "data": {
      "text/plain": [
       "['id',\n",
       " 'user_id',\n",
       " 'type',\n",
       " 'entity_id',\n",
       " 'browse_time',\n",
       " 'is_remove',\n",
       " 'create_time',\n",
       " 'id_x',\n",
       " 'user_phone_x',\n",
       " 'register_time_x',\n",
       " 'register_from',\n",
       " 'recommend_user_id',\n",
       " 'recommend_merchant_id',\n",
       " 'provincial',\n",
       " 'municipal',\n",
       " 'region',\n",
       " 'is_provincial_agency',\n",
       " 'is_municipal_agency',\n",
       " 'is_region_agency',\n",
       " 'is_waiter',\n",
       " 'is_merchant',\n",
       " 'first_login_time',\n",
       " 'bu_wallet_token',\n",
       " 'register_channel',\n",
       " 'user_phone_y',\n",
       " 'realname',\n",
       " 'nickname',\n",
       " 'user_type',\n",
       " 'sex',\n",
       " 'identity',\n",
       " 'birthday',\n",
       " 'recommend_id',\n",
       " 'frozen_state',\n",
       " 'exception_state',\n",
       " 'idcard',\n",
       " 'email',\n",
       " 'usual_address',\n",
       " 'authentication_state',\n",
       " 'head_img',\n",
       " 'jww_id',\n",
       " 'register_type',\n",
       " 'last_login',\n",
       " 'is_first_login',\n",
       " 'is_one_pass']"
      ]
     },
     "execution_count": 142,
     "metadata": {},
     "output_type": "execute_result"
    }
   ],
   "source": [
    "list(browse_user_df.columns)"
   ]
  },
  {
   "cell_type": "code",
   "execution_count": 143,
   "metadata": {
    "collapsed": true
   },
   "outputs": [],
   "source": [
    "# Drop columns\n",
    "browse_user_df=browse_user_df.drop(['id','id_x','create_time'],axis=1)"
   ]
  },
  {
   "cell_type": "code",
   "execution_count": 252,
   "metadata": {
    "collapsed": true
   },
   "outputs": [],
   "source": [
    "# Join merged user info with order information\n",
    "user_order_df=pd.merge(browse_user_df,orders_df,left_on='user_id',right_on='buyer_id',how='right')"
   ]
  },
  {
   "cell_type": "code",
   "execution_count": 253,
   "metadata": {},
   "outputs": [
    {
     "data": {
      "text/plain": [
       "(1950615, 79)"
      ]
     },
     "execution_count": 253,
     "metadata": {},
     "output_type": "execute_result"
    }
   ],
   "source": [
    "# Check dimensions\n",
    "user_order_df.shape"
   ]
  },
  {
   "cell_type": "code",
   "execution_count": 255,
   "metadata": {
    "collapsed": true
   },
   "outputs": [],
   "source": [
    "# Drop unnecessary columns\n",
    "user_order_df=user_order_df.drop(['id','update_time','create_time','user_phone_x','user_phone_y'],axis=1)"
   ]
  },
  {
   "cell_type": "code",
   "execution_count": 183,
   "metadata": {
    "collapsed": true
   },
   "outputs": [],
   "source": [
    "# Merge with merchants information\n",
    "user_order_merchant_df=pd.merge(user_order_df,merchant_df,on='merchant_id',how='left')"
   ]
  },
  {
   "cell_type": "code",
   "execution_count": 184,
   "metadata": {
    "collapsed": true
   },
   "outputs": [],
   "source": [
    "# Check dimensions\n",
    "user_order_merchant_df=user_order_merchant_df.drop_duplicates()"
   ]
  },
  {
   "cell_type": "code",
   "execution_count": 185,
   "metadata": {},
   "outputs": [
    {
     "data": {
      "text/plain": [
       "(1607546, 145)"
      ]
     },
     "execution_count": 185,
     "metadata": {},
     "output_type": "execute_result"
    }
   ],
   "source": [
    "user_order_merchant_df.shape"
   ]
  },
  {
   "cell_type": "code",
   "execution_count": 131,
   "metadata": {
    "collapsed": true
   },
   "outputs": [],
   "source": [
    "# Drop unnecessary columns\n",
    "user_order_merchant_df=user_order_merchant_df.drop(['id','update_time','create_time'],axis=1)"
   ]
  },
  {
   "cell_type": "code",
   "execution_count": 174,
   "metadata": {},
   "outputs": [
    {
     "data": {
      "text/plain": [
       "4358"
      ]
     },
     "execution_count": 174,
     "metadata": {},
     "output_type": "execute_result"
    }
   ],
   "source": [
    "len(user_order_df['merchant_id'].unique().tolist())"
   ]
  },
  {
   "cell_type": "code",
   "execution_count": 151,
   "metadata": {},
   "outputs": [
    {
     "data": {
      "text/html": [
       "<div>\n",
       "<style>\n",
       "    .dataframe thead tr:only-child th {\n",
       "        text-align: right;\n",
       "    }\n",
       "\n",
       "    .dataframe thead th {\n",
       "        text-align: left;\n",
       "    }\n",
       "\n",
       "    .dataframe tbody tr th {\n",
       "        vertical-align: top;\n",
       "    }\n",
       "</style>\n",
       "<table border=\"1\" class=\"dataframe\">\n",
       "  <thead>\n",
       "    <tr style=\"text-align: right;\">\n",
       "      <th></th>\n",
       "      <th>id</th>\n",
       "      <th>merchant_id</th>\n",
       "      <th>merchant_user</th>\n",
       "      <th>merchant_name</th>\n",
       "      <th>region_partner_id</th>\n",
       "      <th>merchant_entity</th>\n",
       "      <th>entity_idcard</th>\n",
       "      <th>entity_phone</th>\n",
       "      <th>license_name</th>\n",
       "      <th>license_no</th>\n",
       "      <th>...</th>\n",
       "      <th>is_settle_public</th>\n",
       "      <th>close_time</th>\n",
       "      <th>is_issue_bu</th>\n",
       "      <th>pct_type</th>\n",
       "      <th>is_open_bu_deduct</th>\n",
       "      <th>is_pay_approve</th>\n",
       "      <th>pay_open_status</th>\n",
       "      <th>pay_open_message</th>\n",
       "      <th>append_step</th>\n",
       "      <th>pay_open_time</th>\n",
       "    </tr>\n",
       "  </thead>\n",
       "  <tbody>\n",
       "    <tr>\n",
       "      <th>count</th>\n",
       "      <td>8611</td>\n",
       "      <td>8610</td>\n",
       "      <td>8610</td>\n",
       "      <td>8598</td>\n",
       "      <td>8597</td>\n",
       "      <td>7939</td>\n",
       "      <td>7939</td>\n",
       "      <td>7680</td>\n",
       "      <td>7885</td>\n",
       "      <td>7886</td>\n",
       "      <td>...</td>\n",
       "      <td>7272.0</td>\n",
       "      <td>68</td>\n",
       "      <td>841.0</td>\n",
       "      <td>7603.000000</td>\n",
       "      <td>8608.000000</td>\n",
       "      <td>8608.000000</td>\n",
       "      <td>8608.0</td>\n",
       "      <td>0.0</td>\n",
       "      <td>1784.000000</td>\n",
       "      <td>0.0</td>\n",
       "    </tr>\n",
       "    <tr>\n",
       "      <th>unique</th>\n",
       "      <td>8611</td>\n",
       "      <td>8610</td>\n",
       "      <td>8400</td>\n",
       "      <td>8334</td>\n",
       "      <td>443</td>\n",
       "      <td>7277</td>\n",
       "      <td>7673</td>\n",
       "      <td>7498</td>\n",
       "      <td>7757</td>\n",
       "      <td>7755</td>\n",
       "      <td>...</td>\n",
       "      <td>NaN</td>\n",
       "      <td>68</td>\n",
       "      <td>NaN</td>\n",
       "      <td>NaN</td>\n",
       "      <td>NaN</td>\n",
       "      <td>NaN</td>\n",
       "      <td>NaN</td>\n",
       "      <td>NaN</td>\n",
       "      <td>NaN</td>\n",
       "      <td>NaN</td>\n",
       "    </tr>\n",
       "    <tr>\n",
       "      <th>top</th>\n",
       "      <td>21713</td>\n",
       "      <td>SH00020307</td>\n",
       "      <td>13055294824</td>\n",
       "      <td>123</td>\n",
       "      <td>20180312001001504947</td>\n",
       "      <td>李娜</td>\n",
       "      <td>370721196805152775</td>\n",
       "      <td>13123375691</td>\n",
       "      <td>营业执照</td>\n",
       "      <td>请编辑</td>\n",
       "      <td>...</td>\n",
       "      <td>NaN</td>\n",
       "      <td>6/27/2019 09:05:59</td>\n",
       "      <td>NaN</td>\n",
       "      <td>NaN</td>\n",
       "      <td>NaN</td>\n",
       "      <td>NaN</td>\n",
       "      <td>NaN</td>\n",
       "      <td>NaN</td>\n",
       "      <td>NaN</td>\n",
       "      <td>NaN</td>\n",
       "    </tr>\n",
       "    <tr>\n",
       "      <th>freq</th>\n",
       "      <td>1</td>\n",
       "      <td>1</td>\n",
       "      <td>7</td>\n",
       "      <td>8</td>\n",
       "      <td>895</td>\n",
       "      <td>9</td>\n",
       "      <td>4</td>\n",
       "      <td>4</td>\n",
       "      <td>6</td>\n",
       "      <td>7</td>\n",
       "      <td>...</td>\n",
       "      <td>NaN</td>\n",
       "      <td>1</td>\n",
       "      <td>NaN</td>\n",
       "      <td>NaN</td>\n",
       "      <td>NaN</td>\n",
       "      <td>NaN</td>\n",
       "      <td>NaN</td>\n",
       "      <td>NaN</td>\n",
       "      <td>NaN</td>\n",
       "      <td>NaN</td>\n",
       "    </tr>\n",
       "    <tr>\n",
       "      <th>mean</th>\n",
       "      <td>NaN</td>\n",
       "      <td>NaN</td>\n",
       "      <td>NaN</td>\n",
       "      <td>NaN</td>\n",
       "      <td>NaN</td>\n",
       "      <td>NaN</td>\n",
       "      <td>NaN</td>\n",
       "      <td>NaN</td>\n",
       "      <td>NaN</td>\n",
       "      <td>NaN</td>\n",
       "      <td>...</td>\n",
       "      <td>0.0</td>\n",
       "      <td>NaN</td>\n",
       "      <td>1.0</td>\n",
       "      <td>1.399579</td>\n",
       "      <td>0.022537</td>\n",
       "      <td>0.827835</td>\n",
       "      <td>0.0</td>\n",
       "      <td>NaN</td>\n",
       "      <td>6.764013</td>\n",
       "      <td>NaN</td>\n",
       "    </tr>\n",
       "    <tr>\n",
       "      <th>std</th>\n",
       "      <td>NaN</td>\n",
       "      <td>NaN</td>\n",
       "      <td>NaN</td>\n",
       "      <td>NaN</td>\n",
       "      <td>NaN</td>\n",
       "      <td>NaN</td>\n",
       "      <td>NaN</td>\n",
       "      <td>NaN</td>\n",
       "      <td>NaN</td>\n",
       "      <td>NaN</td>\n",
       "      <td>...</td>\n",
       "      <td>0.0</td>\n",
       "      <td>NaN</td>\n",
       "      <td>0.0</td>\n",
       "      <td>0.489844</td>\n",
       "      <td>0.148431</td>\n",
       "      <td>0.377546</td>\n",
       "      <td>0.0</td>\n",
       "      <td>NaN</td>\n",
       "      <td>1.039773</td>\n",
       "      <td>NaN</td>\n",
       "    </tr>\n",
       "    <tr>\n",
       "      <th>min</th>\n",
       "      <td>NaN</td>\n",
       "      <td>NaN</td>\n",
       "      <td>NaN</td>\n",
       "      <td>NaN</td>\n",
       "      <td>NaN</td>\n",
       "      <td>NaN</td>\n",
       "      <td>NaN</td>\n",
       "      <td>NaN</td>\n",
       "      <td>NaN</td>\n",
       "      <td>NaN</td>\n",
       "      <td>...</td>\n",
       "      <td>0.0</td>\n",
       "      <td>NaN</td>\n",
       "      <td>1.0</td>\n",
       "      <td>1.000000</td>\n",
       "      <td>0.000000</td>\n",
       "      <td>0.000000</td>\n",
       "      <td>0.0</td>\n",
       "      <td>NaN</td>\n",
       "      <td>1.000000</td>\n",
       "      <td>NaN</td>\n",
       "    </tr>\n",
       "    <tr>\n",
       "      <th>25%</th>\n",
       "      <td>NaN</td>\n",
       "      <td>NaN</td>\n",
       "      <td>NaN</td>\n",
       "      <td>NaN</td>\n",
       "      <td>NaN</td>\n",
       "      <td>NaN</td>\n",
       "      <td>NaN</td>\n",
       "      <td>NaN</td>\n",
       "      <td>NaN</td>\n",
       "      <td>NaN</td>\n",
       "      <td>...</td>\n",
       "      <td>0.0</td>\n",
       "      <td>NaN</td>\n",
       "      <td>1.0</td>\n",
       "      <td>1.000000</td>\n",
       "      <td>0.000000</td>\n",
       "      <td>1.000000</td>\n",
       "      <td>0.0</td>\n",
       "      <td>NaN</td>\n",
       "      <td>7.000000</td>\n",
       "      <td>NaN</td>\n",
       "    </tr>\n",
       "    <tr>\n",
       "      <th>50%</th>\n",
       "      <td>NaN</td>\n",
       "      <td>NaN</td>\n",
       "      <td>NaN</td>\n",
       "      <td>NaN</td>\n",
       "      <td>NaN</td>\n",
       "      <td>NaN</td>\n",
       "      <td>NaN</td>\n",
       "      <td>NaN</td>\n",
       "      <td>NaN</td>\n",
       "      <td>NaN</td>\n",
       "      <td>...</td>\n",
       "      <td>0.0</td>\n",
       "      <td>NaN</td>\n",
       "      <td>1.0</td>\n",
       "      <td>1.000000</td>\n",
       "      <td>0.000000</td>\n",
       "      <td>1.000000</td>\n",
       "      <td>0.0</td>\n",
       "      <td>NaN</td>\n",
       "      <td>7.000000</td>\n",
       "      <td>NaN</td>\n",
       "    </tr>\n",
       "    <tr>\n",
       "      <th>75%</th>\n",
       "      <td>NaN</td>\n",
       "      <td>NaN</td>\n",
       "      <td>NaN</td>\n",
       "      <td>NaN</td>\n",
       "      <td>NaN</td>\n",
       "      <td>NaN</td>\n",
       "      <td>NaN</td>\n",
       "      <td>NaN</td>\n",
       "      <td>NaN</td>\n",
       "      <td>NaN</td>\n",
       "      <td>...</td>\n",
       "      <td>0.0</td>\n",
       "      <td>NaN</td>\n",
       "      <td>1.0</td>\n",
       "      <td>2.000000</td>\n",
       "      <td>0.000000</td>\n",
       "      <td>1.000000</td>\n",
       "      <td>0.0</td>\n",
       "      <td>NaN</td>\n",
       "      <td>7.000000</td>\n",
       "      <td>NaN</td>\n",
       "    </tr>\n",
       "    <tr>\n",
       "      <th>max</th>\n",
       "      <td>NaN</td>\n",
       "      <td>NaN</td>\n",
       "      <td>NaN</td>\n",
       "      <td>NaN</td>\n",
       "      <td>NaN</td>\n",
       "      <td>NaN</td>\n",
       "      <td>NaN</td>\n",
       "      <td>NaN</td>\n",
       "      <td>NaN</td>\n",
       "      <td>NaN</td>\n",
       "      <td>...</td>\n",
       "      <td>0.0</td>\n",
       "      <td>NaN</td>\n",
       "      <td>1.0</td>\n",
       "      <td>2.000000</td>\n",
       "      <td>1.000000</td>\n",
       "      <td>1.000000</td>\n",
       "      <td>0.0</td>\n",
       "      <td>NaN</td>\n",
       "      <td>7.000000</td>\n",
       "      <td>NaN</td>\n",
       "    </tr>\n",
       "  </tbody>\n",
       "</table>\n",
       "<p>11 rows × 72 columns</p>\n",
       "</div>"
      ],
      "text/plain": [
       "           id merchant_id merchant_user merchant_name     region_partner_id  \\\n",
       "count    8611        8610          8610          8598                  8597   \n",
       "unique   8611        8610          8400          8334                   443   \n",
       "top     21713  SH00020307   13055294824           123  20180312001001504947   \n",
       "freq        1           1             7             8                   895   \n",
       "mean      NaN         NaN           NaN           NaN                   NaN   \n",
       "std       NaN         NaN           NaN           NaN                   NaN   \n",
       "min       NaN         NaN           NaN           NaN                   NaN   \n",
       "25%       NaN         NaN           NaN           NaN                   NaN   \n",
       "50%       NaN         NaN           NaN           NaN                   NaN   \n",
       "75%       NaN         NaN           NaN           NaN                   NaN   \n",
       "max       NaN         NaN           NaN           NaN                   NaN   \n",
       "\n",
       "       merchant_entity       entity_idcard entity_phone license_name  \\\n",
       "count             7939                7939         7680         7885   \n",
       "unique            7277                7673         7498         7757   \n",
       "top                 李娜  370721196805152775  13123375691         营业执照   \n",
       "freq                 9                   4            4            6   \n",
       "mean               NaN                 NaN          NaN          NaN   \n",
       "std                NaN                 NaN          NaN          NaN   \n",
       "min                NaN                 NaN          NaN          NaN   \n",
       "25%                NaN                 NaN          NaN          NaN   \n",
       "50%                NaN                 NaN          NaN          NaN   \n",
       "75%                NaN                 NaN          NaN          NaN   \n",
       "max                NaN                 NaN          NaN          NaN   \n",
       "\n",
       "       license_no      ...       is_settle_public          close_time  \\\n",
       "count        7886      ...                 7272.0                  68   \n",
       "unique       7755      ...                    NaN                  68   \n",
       "top           请编辑      ...                    NaN  6/27/2019 09:05:59   \n",
       "freq            7      ...                    NaN                   1   \n",
       "mean          NaN      ...                    0.0                 NaN   \n",
       "std           NaN      ...                    0.0                 NaN   \n",
       "min           NaN      ...                    0.0                 NaN   \n",
       "25%           NaN      ...                    0.0                 NaN   \n",
       "50%           NaN      ...                    0.0                 NaN   \n",
       "75%           NaN      ...                    0.0                 NaN   \n",
       "max           NaN      ...                    0.0                 NaN   \n",
       "\n",
       "       is_issue_bu     pct_type is_open_bu_deduct is_pay_approve  \\\n",
       "count        841.0  7603.000000       8608.000000    8608.000000   \n",
       "unique         NaN          NaN               NaN            NaN   \n",
       "top            NaN          NaN               NaN            NaN   \n",
       "freq           NaN          NaN               NaN            NaN   \n",
       "mean           1.0     1.399579          0.022537       0.827835   \n",
       "std            0.0     0.489844          0.148431       0.377546   \n",
       "min            1.0     1.000000          0.000000       0.000000   \n",
       "25%            1.0     1.000000          0.000000       1.000000   \n",
       "50%            1.0     1.000000          0.000000       1.000000   \n",
       "75%            1.0     2.000000          0.000000       1.000000   \n",
       "max            1.0     2.000000          1.000000       1.000000   \n",
       "\n",
       "        pay_open_status  pay_open_message  append_step  pay_open_time  \n",
       "count            8608.0               0.0  1784.000000            0.0  \n",
       "unique              NaN               NaN          NaN            NaN  \n",
       "top                 NaN               NaN          NaN            NaN  \n",
       "freq                NaN               NaN          NaN            NaN  \n",
       "mean                0.0               NaN     6.764013            NaN  \n",
       "std                 0.0               NaN     1.039773            NaN  \n",
       "min                 0.0               NaN     1.000000            NaN  \n",
       "25%                 0.0               NaN     7.000000            NaN  \n",
       "50%                 0.0               NaN     7.000000            NaN  \n",
       "75%                 0.0               NaN     7.000000            NaN  \n",
       "max                 0.0               NaN     7.000000            NaN  \n",
       "\n",
       "[11 rows x 72 columns]"
      ]
     },
     "execution_count": 151,
     "metadata": {},
     "output_type": "execute_result"
    }
   ],
   "source": [
    "merchant_df.describe(include='all')"
   ]
  },
  {
   "cell_type": "code",
   "execution_count": 236,
   "metadata": {},
   "outputs": [
    {
     "data": {
      "text/plain": [
       "['id_x',\n",
       " 'user_id',\n",
       " 'user_phone_x',\n",
       " 'register_time_x',\n",
       " 'register_from',\n",
       " 'recommend_user_id',\n",
       " 'recommend_merchant_id',\n",
       " 'provincial',\n",
       " 'municipal',\n",
       " 'region',\n",
       " 'is_provincial_agency',\n",
       " 'is_municipal_agency',\n",
       " 'is_region_agency',\n",
       " 'is_waiter',\n",
       " 'is_merchant',\n",
       " 'first_login_time',\n",
       " 'bu_wallet_token',\n",
       " 'register_channel',\n",
       " 'user_phone_y',\n",
       " 'realname',\n",
       " 'nickname',\n",
       " 'user_type',\n",
       " 'sex',\n",
       " 'identity',\n",
       " 'birthday',\n",
       " 'recommend_id',\n",
       " 'frozen_state',\n",
       " 'exception_state',\n",
       " 'idcard',\n",
       " 'email',\n",
       " 'usual_address',\n",
       " 'authentication_state',\n",
       " 'head_img',\n",
       " 'jww_id',\n",
       " 'register_type',\n",
       " 'last_login',\n",
       " 'is_first_login',\n",
       " 'is_one_pass']"
      ]
     },
     "execution_count": 236,
     "metadata": {},
     "output_type": "execute_result"
    }
   ],
   "source": [
    "list(user_join_df)"
   ]
  },
  {
   "cell_type": "code",
   "execution_count": 265,
   "metadata": {
    "collapsed": true
   },
   "outputs": [],
   "source": [
    "user_order_df['birthday'] = pd.to_datetime(user_order_df['birthday'])"
   ]
  },
  {
   "cell_type": "code",
   "execution_count": 266,
   "metadata": {},
   "outputs": [],
   "source": [
    "user_order_df['Age']=(datetime.today()-user_order_df['birthday']).astype('<m8[Y]')"
   ]
  },
  {
   "cell_type": "code",
   "execution_count": 267,
   "metadata": {},
   "outputs": [
    {
     "data": {
      "text/plain": [
       "count    49416.000000\n",
       "mean        33.957281\n",
       "std          9.244662\n",
       "min          0.000000\n",
       "25%         29.000000\n",
       "50%         33.000000\n",
       "75%         40.000000\n",
       "max         99.000000\n",
       "Name: Age, dtype: float64"
      ]
     },
     "execution_count": 267,
     "metadata": {},
     "output_type": "execute_result"
    }
   ],
   "source": [
    "user_order_df['Age'].describe()"
   ]
  },
  {
   "cell_type": "code",
   "execution_count": 269,
   "metadata": {
    "collapsed": true
   },
   "outputs": [],
   "source": [
    "user_order_df['Age_Group']=pd.cut(user_join_df['Age'], bins=[0,20, 29, 39, 49,59])"
   ]
  },
  {
   "cell_type": "code",
   "execution_count": 237,
   "metadata": {},
   "outputs": [
    {
     "data": {
      "image/png": "[encoded data removed]",
      "text/plain": [
       "<matplotlib.figure.Figure at 0x185c543c7b8>"
      ]
     },
     "metadata": {},
     "output_type": "display_data"
    }
   ],
   "source": [
    "pd.value_counts(user_join_df['provincial']).plot.bar(title='User Distribution by Province')\n",
    "plt.show()"
   ]
  },
  {
   "cell_type": "code",
   "execution_count": 239,
   "metadata": {},
   "outputs": [
    {
     "data": {
      "text/plain": [
       "27.0    0.353158\n",
       "15.0    0.149328\n",
       "13.0    0.101270\n",
       "4.0     0.101086\n",
       "3.0     0.076597\n",
       "17.0    0.047873\n",
       "28.0    0.046584\n",
       "5.0     0.027067\n",
       "11.0    0.018965\n",
       "2.0     0.018229\n",
       "22.0    0.011600\n",
       "1.0     0.009206\n",
       "23.0    0.009022\n",
       "10.0    0.008654\n",
       "16.0    0.004419\n",
       "19.0    0.003130\n",
       "30.0    0.002394\n",
       "25.0    0.002210\n",
       "18.0    0.001657\n",
       "9.0     0.001473\n",
       "12.0    0.001473\n",
       "21.0    0.001473\n",
       "8.0     0.001105\n",
       "6.0     0.001105\n",
       "31.0    0.000552\n",
       "29.0    0.000184\n",
       "14.0    0.000184\n",
       "Name: provincial, dtype: float64"
      ]
     },
     "execution_count": 239,
     "metadata": {},
     "output_type": "execute_result"
    }
   ],
   "source": [
    "pd.value_counts(user_join_df['provincial'])/sum(pd.value_counts(user_join_df['provincial']))"
   ]
  },
  {
   "cell_type": "code",
   "execution_count": 240,
   "metadata": {},
   "outputs": [
    {
     "data": {
      "image/png": "[encoded data removed]",
      "text/plain": [
       "<matplotlib.figure.Figure at 0x185c4ba60f0>"
      ]
     },
     "metadata": {},
     "output_type": "display_data"
    }
   ],
   "source": [
    "gender_plot=pd.value_counts(user_join_df['sex']).plot.bar(title='User Distribution by Gender')\n",
    "gender_labels= ['Male','Female','Unknown']\n",
    "gender_plot.set_xticklabels(gender_labels)\n",
    "plt.show()"
   ]
  },
  {
   "cell_type": "code",
   "execution_count": 241,
   "metadata": {},
   "outputs": [
    {
     "data": {
      "text/plain": [
       "0.0    0.537335\n",
       "1.0    0.460870\n",
       "2.0    0.001795\n",
       "Name: sex, dtype: float64"
      ]
     },
     "execution_count": 241,
     "metadata": {},
     "output_type": "execute_result"
    }
   ],
   "source": [
    "pd.value_counts(user_join_df['sex'])/sum(pd.value_counts(user_join_df['sex']))"
   ]
  },
  {
   "cell_type": "code",
   "execution_count": 246,
   "metadata": {},
   "outputs": [
    {
     "data": {
      "image/png": "[encoded data removed]",
      "text/plain": [
       "<matplotlib.figure.Figure at 0x185ba4956d8>"
      ]
     },
     "metadata": {},
     "output_type": "display_data"
    }
   ],
   "source": [
    "Age_plot=pd.value_counts(user_join_df['Age_Group']).plot.bar(title='User Distribution by Age')\n",
    "Age_labels= ['30-39','40-49','20-29','50-59','0-20']\n",
    "Age_plot.set_xticklabels(Age_labels)\n",
    "plt.show()"
   ]
  },
  {
   "cell_type": "code",
   "execution_count": 247,
   "metadata": {},
   "outputs": [
    {
     "data": {
      "text/plain": [
       "(29, 39]    0.318069\n",
       "(39, 49]    0.314694\n",
       "(49, 59]    0.302242\n",
       "(20, 29]    0.055756\n",
       "(0, 20]     0.009239\n",
       "Name: Age_Group, dtype: float64"
      ]
     },
     "execution_count": 247,
     "metadata": {},
     "output_type": "execute_result"
    }
   ],
   "source": [
    "pd.value_counts(user_join_df['Age_Group'])/sum(pd.value_counts(user_join_df['Age_Group']))"
   ]
  },
  {
   "cell_type": "code",
   "execution_count": 262,
   "metadata": {},
   "outputs": [
    {
     "data": {
      "image/png": "[encoded data removed]",
      "text/plain": [
       "<matplotlib.figure.Figure at 0x185b9474cf8>"
      ]
     },
     "metadata": {},
     "output_type": "display_data"
    }
   ],
   "source": [
    "order_by_geography=pd.value_counts(user_order_df['provincial_id']).plot.bar(title='Order Volume by Province')\n",
    "plt.show()"
   ]
  },
  {
   "cell_type": "code",
   "execution_count": 248,
   "metadata": {},
   "outputs": [
    {
     "data": {
      "text/plain": [
       "27.0    0.338666\n",
       "17.0    0.229485\n",
       "15.0    0.157491\n",
       "28.0    0.081204\n",
       "13.0    0.070276\n",
       "4.0     0.065514\n",
       "3.0     0.024279\n",
       "23.0    0.009081\n",
       "11.0    0.008660\n",
       "2.0     0.007726\n",
       "10.0    0.004006\n",
       "5.0     0.002361\n",
       "30.0    0.000509\n",
       "8.0     0.000220\n",
       "21.0    0.000131\n",
       "12.0    0.000100\n",
       "29.0    0.000096\n",
       "22.0    0.000086\n",
       "9.0     0.000051\n",
       "31.0    0.000028\n",
       "19.0    0.000013\n",
       "20.0    0.000007\n",
       "6.0     0.000005\n",
       "25.0    0.000003\n",
       "18.0    0.000001\n",
       "Name: provincial_id, dtype: float64"
      ]
     },
     "execution_count": 248,
     "metadata": {},
     "output_type": "execute_result"
    }
   ],
   "source": [
    "pd.value_counts(user_order_df['provincial_id'])/sum(pd.value_counts(user_order_df['provincial_id']))"
   ]
  },
  {
   "cell_type": "code",
   "execution_count": 260,
   "metadata": {},
   "outputs": [
    {
     "data": {
      "image/png": "[encoded data removed]",
      "text/plain": [
       "<matplotlib.figure.Figure at 0x185b92a0898>"
      ]
     },
     "metadata": {},
     "output_type": "display_data"
    }
   ],
   "source": [
    "order_by_gender=pd.value_counts(user_order_df['sex'],normalize=True).plot.bar(title='Order Volume by Gender')\n",
    "gender_labels= ['Male','Female','Unknown']\n",
    "order_by_gender.set_xticklabels(gender_labels)\n",
    "plt.show()"
   ]
  },
  {
   "cell_type": "code",
   "execution_count": 258,
   "metadata": {},
   "outputs": [
    {
     "data": {
      "text/plain": [
       "0.0    0.629391\n",
       "1.0    0.366158\n",
       "2.0    0.004451\n",
       "Name: sex, dtype: float64"
      ]
     },
     "execution_count": 258,
     "metadata": {},
     "output_type": "execute_result"
    }
   ],
   "source": [
    "pd.value_counts(user_order_df['sex'])/sum(pd.value_counts(user_order_df['sex']))"
   ]
  },
  {
   "cell_type": "code",
   "execution_count": 273,
   "metadata": {},
   "outputs": [
    {
     "data": {
      "image/png": "[encoded data removed]",
      "text/plain": [
       "<matplotlib.figure.Figure at 0x185c42cd240>"
      ]
     },
     "metadata": {},
     "output_type": "display_data"
    }
   ],
   "source": [
    "order_by_age=pd.value_counts(user_order_df['Age_Group'],normalize=True).plot.bar(title='Order Volume by Age')\n",
    "Age_labels= ['30-39','40-49','50-59','20-29','0-20']\n",
    "order_by_age.set_xticklabels(Age_labels)\n",
    "plt.show()"
   ]
  },
  {
   "cell_type": "code",
   "execution_count": 271,
   "metadata": {},
   "outputs": [
    {
     "data": {
      "text/plain": [
       "(29, 39]    0.318069\n",
       "(39, 49]    0.314694\n",
       "(49, 59]    0.302242\n",
       "(20, 29]    0.055756\n",
       "(0, 20]     0.009239\n",
       "Name: Age_Group, dtype: float64"
      ]
     },
     "execution_count": 271,
     "metadata": {},
     "output_type": "execute_result"
    }
   ],
   "source": [
    "pd.value_counts(user_order_df['Age_Group'])/sum(pd.value_counts(user_order_df['Age_Group']))"
   ]
  }
 ],
 "metadata": {
  "kernelspec": {
   "display_name": "Python 3",
   "language": "python",
   "name": "python3"
  },
  "language_info": {
   "codemirror_mode": {
    "name": "ipython",
    "version": 3
   },
   "file_extension": ".py",
   "mimetype": "text/x-python",
   "name": "python",
   "nbconvert_exporter": "python",
   "pygments_lexer": "ipython3",
   "version": "3.6.1"
  }
 },
 "nbformat": 4,
 "nbformat_minor": 2
}
